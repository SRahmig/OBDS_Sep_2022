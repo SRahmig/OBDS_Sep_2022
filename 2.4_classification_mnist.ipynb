{
 "cells": [
  {
   "cell_type": "markdown",
   "id": "51414f95-affd-4cba-b46a-c134e0e29e76",
   "metadata": {
    "tags": []
   },
   "source": [
    "# MNIST classification using a SGD classifier and Scikit-Learn functions"
   ]
  },
  {
   "cell_type": "markdown",
   "id": "95c84858-d6a3-4d04-8494-5288c9a33d0a",
   "metadata": {},
   "source": [
    "### A few packages to get you going\n",
    "* We'll be loading many more throughout the tutorial\n",
    "* Download the dataset by executing the proceeding cells"
   ]
  },
  {
   "cell_type": "code",
   "execution_count": 1,
   "id": "a0fd32d7-d9f4-4e80-bb42-0877c2f51eee",
   "metadata": {},
   "outputs": [],
   "source": [
    "from sklearn.datasets import fetch_openml\n",
    "import matplotlib.pyplot as plt\n",
    "import numpy as np"
   ]
  },
  {
   "cell_type": "code",
   "execution_count": 2,
   "id": "a0afab77-e9d7-412e-ae78-7880cfad6c73",
   "metadata": {},
   "outputs": [],
   "source": [
    "mnist = fetch_openml('mnist_784', version=1, as_frame=False)"
   ]
  },
  {
   "cell_type": "markdown",
   "id": "240b1038-13d3-4d90-b775-657c04c3a981",
   "metadata": {},
   "source": [
    "* Print dictionary keys"
   ]
  },
  {
   "cell_type": "code",
   "execution_count": 3,
   "id": "63ba03b9-7671-4b20-b96e-821d2c8bc240",
   "metadata": {},
   "outputs": [
    {
     "name": "stdout",
     "output_type": "stream",
     "text": [
      "data\n",
      "target\n",
      "frame\n",
      "categories\n",
      "feature_names\n",
      "target_names\n",
      "DESCR\n",
      "details\n",
      "url\n"
     ]
    }
   ],
   "source": [
    "for key in mnist.keys():\n",
    "    print(key)"
   ]
  },
  {
   "cell_type": "markdown",
   "id": "61367a84-b553-4aa9-86bb-1b27ac72c619",
   "metadata": {},
   "source": [
    "* Save the contents of the data and target from the MNIST dictionary into data_array and target array variables\n",
    "    * Also print out the shape of data_array\n",
    "* Notice the type of the target array – convert this to np.uint8 using the astype() method"
   ]
  },
  {
   "cell_type": "code",
   "execution_count": 4,
   "id": "49455c61-01d9-4eab-b8fa-3f8ebb270f06",
   "metadata": {},
   "outputs": [
    {
     "data": {
      "text/plain": [
       "(70000, 784)"
      ]
     },
     "execution_count": 4,
     "metadata": {},
     "output_type": "execute_result"
    }
   ],
   "source": [
    "data_array=np.array(mnist.data)\n",
    "data_array.shape"
   ]
  },
  {
   "cell_type": "code",
   "execution_count": 5,
   "id": "37a19326-c631-4f7f-8db0-e05277d91212",
   "metadata": {},
   "outputs": [
    {
     "data": {
      "text/plain": [
       "str"
      ]
     },
     "execution_count": 5,
     "metadata": {},
     "output_type": "execute_result"
    }
   ],
   "source": [
    "target_array=np.array(mnist.target)\n",
    "target_array.shape\n",
    "type(target_array[0])"
   ]
  },
  {
   "cell_type": "code",
   "execution_count": 6,
   "id": "142968e4-20a1-4fee-a532-44362acc1efa",
   "metadata": {},
   "outputs": [
    {
     "data": {
      "text/plain": [
       "(70000,)"
      ]
     },
     "execution_count": 6,
     "metadata": {},
     "output_type": "execute_result"
    }
   ],
   "source": [
    "target_array = target_array.astype(np.uint8)\n",
    "type(target_array[0])\n",
    "target_array.shape"
   ]
  },
  {
   "cell_type": "markdown",
   "id": "77e43f92-3394-4192-925e-f89ac996beeb",
   "metadata": {},
   "source": [
    "* Print and glance over the description given in the mnist dictionary\n",
    "* Plot an image of the very first image in the dataset (matplotlib imshow)\n",
    "\n",
    "* Bonus ACTIVITY: Write a function that takes in the index of a sample and plots it\n"
   ]
  },
  {
   "cell_type": "code",
   "execution_count": 7,
   "id": "3502601a-3b9a-4369-91d2-adb3d6bd17ec",
   "metadata": {},
   "outputs": [
    {
     "name": "stdout",
     "output_type": "stream",
     "text": [
      "**Author**: Yann LeCun, Corinna Cortes, Christopher J.C. Burges  \n",
      "**Source**: [MNIST Website](http://yann.lecun.com/exdb/mnist/) - Date unknown  \n",
      "**Please cite**:  \n",
      "\n",
      "The MNIST database of handwritten digits with 784 features, raw data available at: http://yann.lecun.com/exdb/mnist/. It can be split in a training set of the first 60,000 examples, and a test set of 10,000 examples  \n",
      "\n",
      "It is a subset of a larger set available from NIST. The digits have been size-normalized and centered in a fixed-size image. It is a good database for people who want to try learning techniques and pattern recognition methods on real-world data while spending minimal efforts on preprocessing and formatting. The original black and white (bilevel) images from NIST were size normalized to fit in a 20x20 pixel box while preserving their aspect ratio. The resulting images contain grey levels as a result of the anti-aliasing technique used by the normalization algorithm. the images were centered in a 28x28 image by computing the center of mass of the pixels, and translating the image so as to position this point at the center of the 28x28 field.  \n",
      "\n",
      "With some classification methods (particularly template-based methods, such as SVM and K-nearest neighbors), the error rate improves when the digits are centered by bounding box rather than center of mass. If you do this kind of pre-processing, you should report it in your publications. The MNIST database was constructed from NIST's NIST originally designated SD-3 as their training set and SD-1 as their test set. However, SD-3 is much cleaner and easier to recognize than SD-1. The reason for this can be found on the fact that SD-3 was collected among Census Bureau employees, while SD-1 was collected among high-school students. Drawing sensible conclusions from learning experiments requires that the result be independent of the choice of training set and test among the complete set of samples. Therefore it was necessary to build a new database by mixing NIST's datasets.  \n",
      "\n",
      "The MNIST training set is composed of 30,000 patterns from SD-3 and 30,000 patterns from SD-1. Our test set was composed of 5,000 patterns from SD-3 and 5,000 patterns from SD-1. The 60,000 pattern training set contained examples from approximately 250 writers. We made sure that the sets of writers of the training set and test set were disjoint. SD-1 contains 58,527 digit images written by 500 different writers. In contrast to SD-3, where blocks of data from each writer appeared in sequence, the data in SD-1 is scrambled. Writer identities for SD-1 is available and we used this information to unscramble the writers. We then split SD-1 in two: characters written by the first 250 writers went into our new training set. The remaining 250 writers were placed in our test set. Thus we had two sets with nearly 30,000 examples each. The new training set was completed with enough examples from SD-3, starting at pattern # 0, to make a full set of 60,000 training patterns. Similarly, the new test set was completed with SD-3 examples starting at pattern # 35,000 to make a full set with 60,000 test patterns. Only a subset of 10,000 test images (5,000 from SD-1 and 5,000 from SD-3) is available on this site. The full 60,000 sample training set is available.\n",
      "\n",
      "Downloaded from openml.org.\n"
     ]
    }
   ],
   "source": [
    "print(mnist.DESCR)"
   ]
  },
  {
   "cell_type": "code",
   "execution_count": 8,
   "id": "5dd44eb4-8d58-4f30-8711-39bfaa28ea06",
   "metadata": {},
   "outputs": [
    {
     "data": {
      "text/plain": [
       "<matplotlib.image.AxesImage at 0x7ff0e0910100>"
      ]
     },
     "execution_count": 8,
     "metadata": {},
     "output_type": "execute_result"
    },
    {
     "data": {
      "image/png": "[encoded data removed]",
      "text/plain": [
       "<Figure size 432x288 with 1 Axes>"
      ]
     },
     "metadata": {
      "needs_background": "light"
     },
     "output_type": "display_data"
    }
   ],
   "source": [
    "plt.imshow(data_array[0].reshape(28,28))"
   ]
  },
  {
   "cell_type": "code",
   "execution_count": 9,
   "id": "86cc24ec-6fb7-49a5-9d66-009e175fd5f4",
   "metadata": {},
   "outputs": [],
   "source": [
    "import random\n",
    "def mnist_plot(index):\n",
    "    plt.imshow(data_array[index].reshape(28,28))    "
   ]
  },
  {
   "cell_type": "code",
   "execution_count": 10,
   "id": "8ab42f79-2260-47b7-b9d4-02e504c8d1b9",
   "metadata": {},
   "outputs": [
    {
     "name": "stdout",
     "output_type": "stream",
     "text": [
      "None\n"
     ]
    },
    {
     "data": {
      "image/png": "[encoded data removed]",
      "text/plain": [
       "<Figure size 432x288 with 1 Axes>"
      ]
     },
     "metadata": {
      "needs_background": "light"
     },
     "output_type": "display_data"
    }
   ],
   "source": [
    "index = random.randint(1, 70000)\n",
    "print(mnist_plot(index))"
   ]
  },
  {
   "cell_type": "markdown",
   "id": "c98ac73c-f452-4252-b4e2-871be516f96e",
   "metadata": {},
   "source": [
    "### train_test_split\n",
    "* turn off shuffle"
   ]
  },
  {
   "cell_type": "code",
   "execution_count": 11,
   "id": "b43cecf1-a1aa-4d9c-9679-e29c3538f88e",
   "metadata": {},
   "outputs": [],
   "source": [
    "from sklearn.model_selection import train_test_split\n",
    "data_train, data_test, target_train, target_test  = train_test_split(data_array, target_array, shuffle=False)"
   ]
  },
  {
   "cell_type": "code",
   "execution_count": 12,
   "id": "73242411-482b-4b0a-8b94-2109be808e9c",
   "metadata": {},
   "outputs": [
    {
     "name": "stdout",
     "output_type": "stream",
     "text": [
      "(52500, 784) (52500,) (17500, 784) (17500,)\n"
     ]
    }
   ],
   "source": [
    "print(data_train.shape, target_train.shape, data_test.shape,target_test.shape)"
   ]
  },
  {
   "cell_type": "markdown",
   "id": "b23f7d94-c8fd-46a3-9a22-16823a02aa95",
   "metadata": {},
   "source": [
    "### Make a new target array (for only train dataset) that is composed of Boolean values (True for 5s and False for not 5s)\n",
    "* Name the new array target_array_train_5\n"
   ]
  },
  {
   "cell_type": "code",
   "execution_count": 13,
   "id": "28e78a67-c709-4108-92eb-f757eb0cfb77",
   "metadata": {},
   "outputs": [
    {
     "name": "stdout",
     "output_type": "stream",
     "text": [
      "[5 0 4 1 9 2 1 3 1 4]\n",
      "[ True False False False False False False False False False]\n"
     ]
    }
   ],
   "source": [
    "target_array_train_5 = target_train == 5\n",
    "print(target_train[0:10])\n",
    "print(target_array_train_5[0:10])"
   ]
  },
  {
   "cell_type": "markdown",
   "id": "55328835-4085-425b-a73c-fec339225cdb",
   "metadata": {},
   "source": [
    "### SGDClassifier\n",
    "* Name it sgd_clf\n",
    "* Fit the model to the data with the fives target\n",
    "* Check to see if it worked using the predict function on a specific sample you know is a 5; also a sample you know is not a 5\n",
    "    * Individual predictions will require a reshape (necessary command will appear in error)\n"
   ]
  },
  {
   "cell_type": "code",
   "execution_count": 14,
   "id": "fdff4302-6106-4a5b-9633-af8baea3a7a5",
   "metadata": {},
   "outputs": [],
   "source": [
    "from sklearn.linear_model import SGDClassifier\n",
    "sgd_clf = SGDClassifier(loss=\"hinge\", penalty=\"l2\", max_iter=500)"
   ]
  },
  {
   "cell_type": "code",
   "execution_count": 15,
   "id": "b7bb013a-2dc6-49dc-b6df-6c3ac37c9900",
   "metadata": {},
   "outputs": [
    {
     "data": {
      "text/plain": [
       "SGDClassifier(max_iter=500)"
      ]
     },
     "execution_count": 15,
     "metadata": {},
     "output_type": "execute_result"
    }
   ],
   "source": [
    "sgd_clf.fit(data_train, target_array_train_5)"
   ]
  },
  {
   "cell_type": "code",
   "execution_count": 16,
   "id": "d8636cee-98c0-4240-87c1-fdc8fba3d517",
   "metadata": {},
   "outputs": [
    {
     "name": "stdout",
     "output_type": "stream",
     "text": [
      "[5 0 4 1 9 2 1 3 1 4]\n",
      "[ True False False False False False False False False False]\n"
     ]
    },
    {
     "data": {
      "text/plain": [
       "array([ True])"
      ]
     },
     "execution_count": 16,
     "metadata": {},
     "output_type": "execute_result"
    }
   ],
   "source": [
    "print(target_train[0:10])\n",
    "print(sgd_clf.predict(data_train[0:10]))\n",
    "sgd_clf.predict(data_train[0].reshape(1,-1))"
   ]
  },
  {
   "cell_type": "markdown",
   "id": "c4ae4235-2044-49b5-862e-7ab8172e3c85",
   "metadata": {},
   "source": [
    "### StandardScaler"
   ]
  },
  {
   "cell_type": "code",
   "execution_count": 17,
   "id": "d146e4ec-b30b-484a-9528-951aeb5d8ee7",
   "metadata": {},
   "outputs": [
    {
     "data": {
      "text/plain": [
       "StandardScaler()"
      ]
     },
     "execution_count": 17,
     "metadata": {},
     "output_type": "execute_result"
    }
   ],
   "source": [
    "from sklearn.preprocessing import StandardScaler\n",
    "scaler = StandardScaler()\n",
    "scaler.fit(data_train)"
   ]
  },
  {
   "cell_type": "code",
   "execution_count": 18,
   "id": "a7aa8e35-931c-4b07-b145-92de6da86dab",
   "metadata": {},
   "outputs": [],
   "source": [
    "data_train_scale = scaler.transform(data_train)\n",
    "data_test_scale = scaler.transform(data_test)"
   ]
  },
  {
   "cell_type": "code",
   "execution_count": 19,
   "id": "8f3bff73-0558-4123-9eaf-de7dfc1c3da0",
   "metadata": {},
   "outputs": [
    {
     "name": "stderr",
     "output_type": "stream",
     "text": [
      "/Users/susann/opt/anaconda3/lib/python3.9/site-packages/sklearn/linear_model/_stochastic_gradient.py:696: ConvergenceWarning: Maximum number of iteration reached before convergence. Consider increasing max_iter to improve the fit.\n",
      "  warnings.warn(\n"
     ]
    },
    {
     "data": {
      "text/plain": [
       "SGDClassifier(max_iter=500)"
      ]
     },
     "execution_count": 19,
     "metadata": {},
     "output_type": "execute_result"
    }
   ],
   "source": [
    "sgd_clf.fit(data_train_scale, target_array_train_5)"
   ]
  },
  {
   "cell_type": "code",
   "execution_count": 20,
   "id": "b4f6355e-7403-4381-934e-09501866dbd5",
   "metadata": {},
   "outputs": [
    {
     "name": "stdout",
     "output_type": "stream",
     "text": [
      "[5 0 4 1 9 2 1 3 1 4]\n",
      "[False False False False False False False False False False]\n"
     ]
    }
   ],
   "source": [
    "print(target_train[0:10])\n",
    "print(sgd_clf.predict(data_train_scale[0:10]))"
   ]
  },
  {
   "cell_type": "markdown",
   "id": "3d29df6b-2979-4233-aa32-2513fa8f8e65",
   "metadata": {},
   "source": [
    "### cross_val_score\n",
    "* Implement it using 3-fold cross validation, scoring for accuracy\n"
   ]
  },
  {
   "cell_type": "code",
   "execution_count": 21,
   "id": "a4d4fbc2-d6ad-4853-8598-c60c65d8fd00",
   "metadata": {},
   "outputs": [],
   "source": [
    "#measure performance\n",
    "from sklearn.model_selection import cross_val_score"
   ]
  },
  {
   "cell_type": "code",
   "execution_count": 22,
   "id": "30a367a9-8e38-435f-beda-0e842d7149ec",
   "metadata": {},
   "outputs": [
    {
     "name": "stdout",
     "output_type": "stream",
     "text": [
      "[0.95074286 0.95182857 0.96691429]\n"
     ]
    }
   ],
   "source": [
    "print(cross_val_score(sgd_clf, data_train, target_array_train_5, scoring='accuracy', cv=3))"
   ]
  },
  {
   "cell_type": "markdown",
   "id": "45dfe506-c95d-41e4-a231-d609a3f94bbd",
   "metadata": {},
   "source": [
    "### Calculate the accuracy if the model always predicted not-5\n"
   ]
  },
  {
   "cell_type": "code",
   "execution_count": 23,
   "id": "8e7d84e1-a6f5-4042-b0ca-d30dd3e74d45",
   "metadata": {},
   "outputs": [
    {
     "data": {
      "text/plain": [
       "4739"
      ]
     },
     "execution_count": 23,
     "metadata": {},
     "output_type": "execute_result"
    }
   ],
   "source": [
    "np.count_nonzero(target_train == 5)"
   ]
  },
  {
   "cell_type": "code",
   "execution_count": 24,
   "id": "d7c2284e-78ee-4937-aebc-f5e8f13fec4e",
   "metadata": {},
   "outputs": [],
   "source": [
    "per_true = sum((target_array_train_5)==True)"
   ]
  },
  {
   "cell_type": "code",
   "execution_count": 25,
   "id": "e146284b-c7ef-4bc4-9c3d-9d6f7f56fded",
   "metadata": {},
   "outputs": [
    {
     "name": "stdout",
     "output_type": "stream",
     "text": [
      "0.9097333333333333\n"
     ]
    }
   ],
   "source": [
    "len(target_train)\n",
    "acc_false=(len(target_train)-per_true)/len(target_train)\n",
    "print(acc_false)"
   ]
  },
  {
   "cell_type": "markdown",
   "id": "8d3bdd18-ec4c-4f9e-805b-8139aa16783f",
   "metadata": {},
   "source": [
    "### cross_val_predict \n",
    "* Name the array of predictions target_array_train_5_pred"
   ]
  },
  {
   "cell_type": "code",
   "execution_count": 26,
   "id": "29b5139a-fc61-4ca4-b502-32ae6040a64d",
   "metadata": {},
   "outputs": [],
   "source": [
    "from sklearn.model_selection import cross_val_predict"
   ]
  },
  {
   "cell_type": "code",
   "execution_count": 27,
   "id": "7e326ff4-d9ef-4238-a469-550fcf79c028",
   "metadata": {},
   "outputs": [],
   "source": [
    "target_array_train_5_pred = cross_val_predict(sgd_clf, data_train,target_array_train_5, cv=3)"
   ]
  },
  {
   "cell_type": "code",
   "execution_count": 28,
   "id": "a220ba3d-8800-44b4-ac53-0a3f8cd82edb",
   "metadata": {},
   "outputs": [
    {
     "name": "stdout",
     "output_type": "stream",
     "text": [
      "[ True False False False False False False False False False False  True\n",
      " False False False False False False False False]\n"
     ]
    }
   ],
   "source": [
    "print(target_array_train_5_pred[0:20])"
   ]
  },
  {
   "cell_type": "markdown",
   "id": "2c24fdb8-01e8-47e9-a8e6-b65d999b8db5",
   "metadata": {},
   "source": [
    "### precision_score; recall_score"
   ]
  },
  {
   "cell_type": "code",
   "execution_count": 29,
   "id": "6bd17b39-bf08-41e3-98ea-a70991c4f364",
   "metadata": {},
   "outputs": [],
   "source": [
    "from sklearn.metrics import precision_score"
   ]
  },
  {
   "cell_type": "code",
   "execution_count": 30,
   "id": "77b38f16-f966-46af-a83e-9eb30c90a534",
   "metadata": {},
   "outputs": [
    {
     "data": {
      "text/plain": [
       "0.8015768725361366"
      ]
     },
     "execution_count": 30,
     "metadata": {},
     "output_type": "execute_result"
    }
   ],
   "source": [
    "precision_score(target_array_train_5, target_array_train_5_pred)"
   ]
  },
  {
   "cell_type": "code",
   "execution_count": 31,
   "id": "0d813eb1-7d0d-4ec1-85de-0f22671a2180",
   "metadata": {},
   "outputs": [],
   "source": [
    "from sklearn.metrics import recall_score"
   ]
  },
  {
   "cell_type": "code",
   "execution_count": 32,
   "id": "1bbad741-cb43-429c-b9db-678a47f96893",
   "metadata": {},
   "outputs": [
    {
     "data": {
      "text/plain": [
       "0.7723148343532391"
      ]
     },
     "execution_count": 32,
     "metadata": {},
     "output_type": "execute_result"
    }
   ],
   "source": [
    "recall_score(target_array_train_5, target_array_train_5_pred,average='binary')"
   ]
  },
  {
   "cell_type": "code",
   "execution_count": 33,
   "id": "6a957bea-d769-4d01-a687-afa40e1b9ccf",
   "metadata": {},
   "outputs": [],
   "source": [
    "from sklearn.metrics import precision_recall_fscore_support"
   ]
  },
  {
   "cell_type": "code",
   "execution_count": 34,
   "id": "af4119ec-f890-47c3-ab50-442a865d917a",
   "metadata": {},
   "outputs": [
    {
     "data": {
      "text/plain": [
       "(0.8015768725361366, 0.7723148343532391, 0.786673831273509, None)"
      ]
     },
     "execution_count": 34,
     "metadata": {},
     "output_type": "execute_result"
    }
   ],
   "source": [
    "precision_recall_fscore_support(target_array_train_5, target_array_train_5_pred, average='binary')"
   ]
  },
  {
   "cell_type": "markdown",
   "id": "1a71de58-02bf-4254-b80c-24f81677af41",
   "metadata": {},
   "source": [
    "### roc_curve\n",
    "* Run cross_val_predict as before, but add method='decision_function'\n",
    "* Use matplotlib plot to create ROC curve figure"
   ]
  },
  {
   "cell_type": "code",
   "execution_count": 35,
   "id": "b41ee1fa-912b-48e9-8310-e3ddde73190a",
   "metadata": {},
   "outputs": [],
   "source": [
    "from sklearn import metrics"
   ]
  },
  {
   "cell_type": "code",
   "execution_count": 36,
   "id": "7ebaca50-0268-40c6-8c3f-d464ec35a727",
   "metadata": {},
   "outputs": [
    {
     "name": "stdout",
     "output_type": "stream",
     "text": [
      "[  5348.9745209  -28525.24123623 -30273.45162427 -11439.89041721\n",
      " -27762.53454435  -7323.70790258 -15495.602307   -24987.97787058\n",
      "  -7335.02520865  -5144.98365706 -21019.39300239  17975.50403724\n",
      " -33879.91352449  -7073.8393761   -7200.28412054 -18829.69875873\n",
      " -13772.77211324 -11849.83912456  -6388.95226453 -22258.1293852 ]\n"
     ]
    }
   ],
   "source": [
    "pred_score = cross_val_predict(sgd_clf, data_train, target_array_train_5, cv=3, method='decision_function')\n",
    "print(pred_score[0:20])"
   ]
  },
  {
   "cell_type": "code",
   "execution_count": 37,
   "id": "0b6a80c4-8e82-4374-8fbe-24810d4088a3",
   "metadata": {},
   "outputs": [
    {
     "name": "stdout",
     "output_type": "stream",
     "text": [
      "[0.         0.         0.         ... 0.99778062 0.99778062 1.        ] [0.00000000e+00 2.11014982e-04 2.74319477e-03 ... 9.99788985e-01\n",
      " 1.00000000e+00 1.00000000e+00] [  45017.76113573   45016.76113573   35876.4879873  ...  -96342.57868634\n",
      "  -96908.3902496  -162779.10359829]\n"
     ]
    }
   ],
   "source": [
    "fpr, tpr, thresholds = metrics.roc_curve(target_array_train_5, pred_score)\n",
    "print(fpr, tpr, thresholds)"
   ]
  },
  {
   "cell_type": "code",
   "execution_count": 38,
   "id": "119047da-af7a-4bd8-b110-cf5f33b26790",
   "metadata": {},
   "outputs": [
    {
     "data": {
      "image/png": "[encoded data removed]",
      "text/plain": [
       "<Figure size 432x288 with 1 Axes>"
      ]
     },
     "metadata": {
      "needs_background": "light"
     },
     "output_type": "display_data"
    }
   ],
   "source": [
    "plt.plot(fpr,tpr)\n",
    "plt.xlabel('fpr')\n",
    "plt.ylabel('tpr')\n",
    "plt.show()"
   ]
  },
  {
   "cell_type": "markdown",
   "id": "a1d093f4-4f07-4bb8-afaa-462fd9c6fe16",
   "metadata": {},
   "source": [
    "### roc_auc_score"
   ]
  },
  {
   "cell_type": "code",
   "execution_count": 39,
   "id": "63d131ec-b369-4154-9765-c6963423d02a",
   "metadata": {},
   "outputs": [],
   "source": [
    "from sklearn.metrics import roc_auc_score"
   ]
  },
  {
   "cell_type": "code",
   "execution_count": 40,
   "id": "c253cea7-1df7-45b1-9be3-27da83cbee62",
   "metadata": {},
   "outputs": [
    {
     "data": {
      "text/plain": [
       "0.9647391141777408"
      ]
     },
     "execution_count": 40,
     "metadata": {},
     "output_type": "execute_result"
    }
   ],
   "source": [
    "roc_auc_score(target_array_train_5, pred_score)"
   ]
  },
  {
   "cell_type": "markdown",
   "id": "c42e41bd-2e4e-4dfc-86c4-e9f1af763fdf",
   "metadata": {},
   "source": [
    "### Find the cross_val_pred for the SGD classifier using all 10 classes (change targets)\n",
    "* Use a new variable target_array_train_pred to save predictions "
   ]
  },
  {
   "cell_type": "code",
   "execution_count": 41,
   "id": "cf01346e-5bc0-488a-b9c5-093dac9d3f63",
   "metadata": {},
   "outputs": [
    {
     "data": {
      "text/plain": [
       "SGDClassifier(max_iter=500)"
      ]
     },
     "execution_count": 41,
     "metadata": {},
     "output_type": "execute_result"
    }
   ],
   "source": [
    "sgd_clf.fit(data_train, target_train)"
   ]
  },
  {
   "cell_type": "code",
   "execution_count": 53,
   "id": "2352a59c-6d60-4bd6-add5-a27298c01d15",
   "metadata": {},
   "outputs": [
    {
     "name": "stdout",
     "output_type": "stream",
     "text": [
      "[5 0 4 1 9 2 1 3 1 4]\n",
      "[3 0 4 1 4 2 1 3 1 4]\n"
     ]
    },
    {
     "data": {
      "text/plain": [
       "array([3], dtype=uint8)"
      ]
     },
     "execution_count": 53,
     "metadata": {},
     "output_type": "execute_result"
    }
   ],
   "source": [
    "print(target_train[0:10])\n",
    "print(sgd_clf.predict(data_train[0:10]))\n",
    "sgd_clf.predict(data_train[0].reshape(1,-1))"
   ]
  },
  {
   "cell_type": "code",
   "execution_count": 45,
   "id": "bbfdb8c0-2cc1-4d42-823e-8ee83073ee79",
   "metadata": {},
   "outputs": [
    {
     "name": "stdout",
     "output_type": "stream",
     "text": [
      "[0.87514286 0.85702857 0.87611429]\n"
     ]
    }
   ],
   "source": [
    "#cross_val_score\n",
    "print(cross_val_score(sgd_clf, data_train, target_train, scoring='accuracy', cv=3))"
   ]
  },
  {
   "cell_type": "code",
   "execution_count": 47,
   "id": "83c030a8-4785-4388-b127-d64b9dfb32d1",
   "metadata": {},
   "outputs": [],
   "source": [
    "#cross_val_predict\n",
    "target_array_train_pred = cross_val_predict(sgd_clf, data_train,target_train, cv=3)"
   ]
  },
  {
   "cell_type": "code",
   "execution_count": 54,
   "id": "f9019dfa-ecc3-48a4-ba1a-53a6337aec10",
   "metadata": {},
   "outputs": [
    {
     "name": "stdout",
     "output_type": "stream",
     "text": [
      "[5 0 4 1 9 2 1 3 1 4 3 5 3 6 1 7 2 8 6 9]\n",
      "[5 0 4 1 9 2 1 3 1 4 3 5 3 6 1 7 2 8 6 9]\n"
     ]
    }
   ],
   "source": [
    "print(target_train[0:20])\n",
    "print(target_array_train_pred[0:20])"
   ]
  },
  {
   "cell_type": "code",
   "execution_count": 59,
   "id": "d6ce4f27-0652-4ce4-ba17-bc89bf3cf97e",
   "metadata": {},
   "outputs": [
    {
     "name": "stdout",
     "output_type": "stream",
     "text": [
      "0.8745773020048216\n",
      "0.871447619047619\n"
     ]
    }
   ],
   "source": [
    "#precision score, recall score\n",
    "print(precision_score(target_train, target_array_train_pred, average='weighted'))\n",
    "print(recall_score(target_train, target_array_train_pred, average='weighted'))"
   ]
  },
  {
   "cell_type": "code",
   "execution_count": 60,
   "id": "2490c3d0-dba6-4c12-a53b-05801cb27154",
   "metadata": {},
   "outputs": [
    {
     "data": {
      "text/plain": [
       "(0.8745773020048216, 0.871447619047619, 0.8711343683528182, None)"
      ]
     },
     "execution_count": 60,
     "metadata": {},
     "output_type": "execute_result"
    }
   ],
   "source": [
    "precision_recall_fscore_support(target_train, target_array_train_pred, average='weighted')"
   ]
  },
  {
   "cell_type": "code",
   "execution_count": 61,
   "id": "283a4b8d-1e6f-478e-bcfb-afd75850d985",
   "metadata": {},
   "outputs": [
    {
     "name": "stdout",
     "output_type": "stream",
     "text": [
      "[[-26098.25985535 -68173.74017805 -23361.82095287    390.92431319\n",
      "  -43105.66302504  10424.03511657 -49752.56777763 -27005.69737288\n",
      "  -14634.7881382  -28763.88027927]\n",
      " [ 38405.73104628 -50899.85713742 -20886.40441062 -17846.98823983\n",
      "  -34963.62847844 -35759.8133041  -26460.04735714 -38858.67768663\n",
      "  -12296.41892789 -26795.37402072]\n",
      " [-48950.36832162 -62174.54551826 -16726.47196283    356.68291977\n",
      "     925.06475233 -50563.78682358 -63059.78016458 -31072.55616329\n",
      "  -33153.27319174 -24853.41527615]\n",
      " [-38395.8807486   18411.84398387  -8712.12190275  -6081.37974262\n",
      "  -12122.92990822 -20644.21663683 -25073.88206484 -22243.43165938\n",
      "   -2453.44917449 -17522.2760566 ]\n",
      " [-60651.18880096 -41474.25346602 -41056.61180188 -24225.31059881\n",
      "  -10957.66544667 -23782.92009083 -39428.22748252 -22169.68849811\n",
      "  -10727.5459826    1114.81050574]\n",
      " [-19600.59883308 -64232.34497737   6601.18368212 -17904.87370428\n",
      "  -33125.75010419 -19550.43097378 -42606.8446598  -39186.89302671\n",
      "   -4597.6349949  -18045.87986406]\n",
      " [-91587.90866659  30874.29119357 -12709.83854975  -4201.73897176\n",
      "  -24297.71331408 -13922.61580351  -9126.10846694 -16001.29814884\n",
      "   -6234.77502781 -21174.19076053]\n",
      " [-36056.38700534 -77880.31878922 -12166.36544309  12909.62339994\n",
      "  -35522.86321098 -27609.28790353 -91094.80212898 -63419.53110547\n",
      "   -3245.22868858 -26450.01649775]\n",
      " [-49487.69394644  23195.29470832 -13920.32451415  -6118.75672969\n",
      "  -20670.45947551  -5634.81594025 -11018.02530598  -6530.20366276\n",
      "   -5728.06253675  -7052.82288376]\n",
      " [-37019.98547657 -50043.60415504 -13587.60839861 -20804.86589946\n",
      "   18209.50368976  -6902.93694081  -8858.68781731 -31584.71807192\n",
      "  -10748.50158231 -21657.50736354]\n",
      " [-16168.0225989  -33896.88383628 -13690.19832068  10385.38303304\n",
      "  -43500.26589619 -25701.69529606 -38767.12949465 -46878.14478431\n",
      "   -6227.09592165 -18918.6679595 ]\n",
      " [-44216.94405684 -16623.57515162  -2639.95309878 -19650.24846444\n",
      "   -4287.46125019  27850.76694432 -16822.56288955 -27251.66178009\n",
      "    -386.13081912 -29249.10797332]\n",
      " [-48609.78312453 -54564.45312146 -15747.71457032  25377.30689743\n",
      "  -42499.81203117 -43366.1500917  -68062.68892666 -38303.33706612\n",
      "  -28776.72858133 -73229.25981874]\n",
      " [-60978.17574567 -69463.32455855 -14219.3819821  -31380.22136356\n",
      "  -15623.06640381 -21530.86129423  23858.2878205  -52137.65009956\n",
      "  -20138.24129992 -33118.95579945]\n",
      " [-58709.9351863   21932.17416715 -12649.95890069  -6029.07793121\n",
      "  -22416.04024936  -5303.39567025  -5886.22715381 -11113.10918902\n",
      "   -2257.07222881 -12396.10662089]\n",
      " [-36575.65918209 -54830.03221664 -47697.98022435 -22261.3573506\n",
      "   -7299.5973657  -16950.65451895 -54531.23858954   8232.68362309\n",
      "   -5892.23152847  -2746.71162404]\n",
      " [   138.67086037 -90322.11091645   9725.91006332 -15294.35803854\n",
      "  -24976.07424875 -33969.07070112 -26076.72602196 -27631.30766209\n",
      "  -14968.0203753  -31762.53029434]\n",
      " [-46687.66796164   -547.30502549 -17168.77481119 -16357.41586564\n",
      "  -23477.47640295 -20443.34632159 -36281.2901244  -44500.05466135\n",
      "    6370.94002099 -12155.83619005]\n",
      " [-25665.88703057 -54681.65588992  -8696.42584479  -6251.81853027\n",
      "  -19259.5548909  -10182.54272822   -994.93427569 -47263.55849213\n",
      "   -6564.70309003 -16072.52942511]\n",
      " [-67197.38012697 -26074.67091414 -29036.30988479  -6021.16923685\n",
      "  -14941.29880806 -25137.05552974 -33035.21823226 -16735.35453231\n",
      "   -7617.41940635  -2739.2780757 ]]\n"
     ]
    }
   ],
   "source": [
    "#roc_curve\n",
    "pred_score_10cl = cross_val_predict(sgd_clf, data_train, target_train, cv=3, method='decision_function')\n",
    "print(pred_score_10cl[0:20])"
   ]
  },
  {
   "cell_type": "code",
   "execution_count": 43,
   "id": "76b9261a-5e5b-4831-a373-41007415ed5f",
   "metadata": {},
   "outputs": [
    {
     "name": "stderr",
     "output_type": "stream",
     "text": [
      "/Users/susann/opt/anaconda3/lib/python3.9/site-packages/sklearn/linear_model/_stochastic_gradient.py:696: ConvergenceWarning: Maximum number of iteration reached before convergence. Consider increasing max_iter to improve the fit.\n",
      "  warnings.warn(\n"
     ]
    },
    {
     "data": {
      "text/plain": [
       "SGDClassifier(max_iter=500)"
      ]
     },
     "execution_count": 43,
     "metadata": {},
     "output_type": "execute_result"
    }
   ],
   "source": [
    "# with scaled data\n",
    "sgd_clf.fit(data_train_scale, target_train)"
   ]
  },
  {
   "cell_type": "code",
   "execution_count": 46,
   "id": "ea5c4212-bb1e-4674-940a-9654e838fc12",
   "metadata": {},
   "outputs": [
    {
     "name": "stdout",
     "output_type": "stream",
     "text": [
      "[5 0 4 1 9 2 1 3 1 4]\n",
      "[3 0 4 1 9 2 1 3 1 4]\n"
     ]
    }
   ],
   "source": [
    "print(target_train[0:10])\n",
    "print(sgd_clf.predict(data_train_scale[0:10]))"
   ]
  },
  {
   "cell_type": "code",
   "execution_count": 62,
   "id": "60fca84c-4cab-41ba-906d-408f06139fd5",
   "metadata": {},
   "outputs": [
    {
     "name": "stderr",
     "output_type": "stream",
     "text": [
      "/Users/susann/opt/anaconda3/lib/python3.9/site-packages/sklearn/linear_model/_stochastic_gradient.py:696: ConvergenceWarning: Maximum number of iteration reached before convergence. Consider increasing max_iter to improve the fit.\n",
      "  warnings.warn(\n",
      "/Users/susann/opt/anaconda3/lib/python3.9/site-packages/sklearn/linear_model/_stochastic_gradient.py:696: ConvergenceWarning: Maximum number of iteration reached before convergence. Consider increasing max_iter to improve the fit.\n",
      "  warnings.warn(\n"
     ]
    },
    {
     "name": "stdout",
     "output_type": "stream",
     "text": [
      "[0.90428571 0.90811429 0.90554286]\n"
     ]
    },
    {
     "name": "stderr",
     "output_type": "stream",
     "text": [
      "/Users/susann/opt/anaconda3/lib/python3.9/site-packages/sklearn/linear_model/_stochastic_gradient.py:696: ConvergenceWarning: Maximum number of iteration reached before convergence. Consider increasing max_iter to improve the fit.\n",
      "  warnings.warn(\n"
     ]
    }
   ],
   "source": [
    "#cross_val_score\n",
    "print(cross_val_score(sgd_clf, data_train_scale, target_train, scoring='accuracy', cv=3))"
   ]
  },
  {
   "cell_type": "code",
   "execution_count": 64,
   "id": "46f22c08-50b2-4eb2-9c07-52ee186508ba",
   "metadata": {},
   "outputs": [
    {
     "name": "stderr",
     "output_type": "stream",
     "text": [
      "/Users/susann/opt/anaconda3/lib/python3.9/site-packages/sklearn/linear_model/_stochastic_gradient.py:696: ConvergenceWarning: Maximum number of iteration reached before convergence. Consider increasing max_iter to improve the fit.\n",
      "  warnings.warn(\n",
      "/Users/susann/opt/anaconda3/lib/python3.9/site-packages/sklearn/linear_model/_stochastic_gradient.py:696: ConvergenceWarning: Maximum number of iteration reached before convergence. Consider increasing max_iter to improve the fit.\n",
      "  warnings.warn(\n",
      "/Users/susann/opt/anaconda3/lib/python3.9/site-packages/sklearn/linear_model/_stochastic_gradient.py:696: ConvergenceWarning: Maximum number of iteration reached before convergence. Consider increasing max_iter to improve the fit.\n",
      "  warnings.warn(\n"
     ]
    }
   ],
   "source": [
    "#cross_val_predict\n",
    "target_array_train_scale_pred = cross_val_predict(sgd_clf, data_train_scale,target_train, cv=3)"
   ]
  },
  {
   "cell_type": "code",
   "execution_count": 65,
   "id": "0bf463c1-0992-4048-8fe0-c4ad1b857854",
   "metadata": {},
   "outputs": [
    {
     "name": "stdout",
     "output_type": "stream",
     "text": [
      "[5 0 4 1 9 2 1 3 1 4 3 5 3 6 1 7 2 8 6 9]\n",
      "[3 0 4 1 9 2 1 3 1 4 3 5 3 6 1 7 2 8 6 9]\n"
     ]
    }
   ],
   "source": [
    "print(target_train[0:20])\n",
    "print(target_array_train_scale_pred[0:20])"
   ]
  },
  {
   "cell_type": "code",
   "execution_count": 66,
   "id": "aebce203-424e-445d-bb36-965463ca97bc",
   "metadata": {},
   "outputs": [
    {
     "name": "stdout",
     "output_type": "stream",
     "text": [
      "0.9094687798794887\n",
      "0.9068571428571428\n"
     ]
    }
   ],
   "source": [
    "#precision score, recall score\n",
    "print(precision_score(target_train, target_array_train_scale_pred, average='weighted'))\n",
    "print(recall_score(target_train, target_array_train_scale_pred, average='weighted'))"
   ]
  },
  {
   "cell_type": "markdown",
   "id": "72fea275-944c-430d-9371-a00c2bacd530",
   "metadata": {},
   "source": [
    "### confusion_matrix"
   ]
  },
  {
   "cell_type": "code",
   "execution_count": 67,
   "id": "b21d41ba-b140-4d8b-9718-aa5f813fd6ce",
   "metadata": {},
   "outputs": [],
   "source": [
    "from sklearn.metrics import confusion_matrix"
   ]
  },
  {
   "cell_type": "code",
   "execution_count": 78,
   "id": "2837e628-7412-486d-9d7d-e661e0e12b11",
   "metadata": {},
   "outputs": [
    {
     "name": "stdout",
     "output_type": "stream",
     "text": [
      "[[4920    1   26    6    8   57   39    5  118    4]\n",
      " [   1 5664   44   26    5   45    3    8  139   13]\n",
      " [  26   30 4655   85   62   28   64   39  203   11]\n",
      " [  23   21  129 4634    2  210   22   46  192   72]\n",
      " [  11   11   48    9 4603   10   38   20  154  185]\n",
      " [  31   18   42  151   47 4026   73   17  256   78]\n",
      " [  25   17   45    2   43   90 4904    7   71    0]\n",
      " [  14   13   63   35   46   11    4 4970   60  233]\n",
      " [  23   67   55  100    5  120   31   10 4637   56]\n",
      " [  22   19   29   68  124   37    2  160  171 4597]]\n"
     ]
    }
   ],
   "source": [
    "con_matrix = confusion_matrix(target_train, target_array_train_scale_pred)\n",
    "print(con_matrix)"
   ]
  },
  {
   "cell_type": "code",
   "execution_count": 90,
   "id": "1ac9c186-3af0-48a4-9014-22dea97d5a34",
   "metadata": {},
   "outputs": [
    {
     "data": {
      "text/plain": [
       "<matplotlib.image.AxesImage at 0x7ff112b60c70>"
      ]
     },
     "execution_count": 90,
     "metadata": {},
     "output_type": "execute_result"
    },
    {
     "data": {
      "image/png": "[encoded data removed]",
      "text/plain": [
       "<Figure size 432x288 with 1 Axes>"
      ]
     },
     "metadata": {
      "needs_background": "light"
     },
     "output_type": "display_data"
    }
   ],
   "source": [
    "plt.imshow(con_matrix, cmap='plasma', origin='lower')"
   ]
  },
  {
   "cell_type": "code",
   "execution_count": null,
   "id": "daadc34d-eeb7-4b6e-97da-801cae4e743a",
   "metadata": {},
   "outputs": [],
   "source": []
  }
 ],
 "metadata": {
  "kernelspec": {
   "display_name": "Python 3 (ipykernel)",
   "language": "python",
   "name": "python3"
  },
  "language_info": {
   "codemirror_mode": {
    "name": "ipython",
    "version": 3
   },
   "file_extension": ".py",
   "mimetype": "text/x-python",
   "name": "python",
   "nbconvert_exporter": "python",
   "pygments_lexer": "ipython3",
   "version": "3.9.12"
  }
 },
 "nbformat": 4,
 "nbformat_minor": 5
}
