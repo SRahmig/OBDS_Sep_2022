{
 "cells": [
  {
   "cell_type": "markdown",
   "id": "12533ba6-a414-4fe7-8bec-d4f27d39b2e5",
   "metadata": {},
   "source": [
    "# Using ML techniques to infer a multiplier\n",
    "\n",
    "### Scenario\n",
    "\n",
    "You discover that the number of apple seeds is directly tied to the overall height of the fruit, the seed count just needs to be multiplied by some fixed number. Create a model such that given the number of seeds, you can predict the height of the fruit. ***Use an iterative guessing approach to estimate the value of the multiplier.***"
   ]
  },
  {
   "cell_type": "markdown",
   "id": "2cc3efe5-553f-4be9-95e0-ee1a4c96ebea",
   "metadata": {},
   "source": [
    "### We use two packages for this\n",
    "1. random - to generate random numbers\n",
    "2. numpy - this package handles matricies (or more technically arrays, which may have more dimensions than a matrix)"
   ]
  },
  {
   "cell_type": "code",
   "execution_count": 1,
   "id": "6359a1f8-8f41-4709-9898-7faf13fa5d4a",
   "metadata": {},
   "outputs": [],
   "source": [
    "import random\n",
    "import numpy as np"
   ]
  },
  {
   "cell_type": "markdown",
   "id": "b9bcff20-4918-4051-838a-8e9e788d0400",
   "metadata": {},
   "source": [
    "## Part 1 - Set up data"
   ]
  },
  {
   "cell_type": "markdown",
   "id": "21f82737-0ec7-4981-aaea-b95537961a83",
   "metadata": {},
   "source": [
    "### Randomly select the multiplier\n",
    "This will be the value the seed count is multiplied by, and the number we're trying to discover\n",
    "* Select a random number between 10 and 100 (uniform distribution) and set it equal to a variable named \"actual_multiplier\""
   ]
  },
  {
   "cell_type": "code",
   "execution_count": 4,
   "id": "767e5ea2-fd39-42c8-a615-34ebaff96076",
   "metadata": {},
   "outputs": [
    {
     "name": "stdout",
     "output_type": "stream",
     "text": [
      "49.58840092704109\n"
     ]
    }
   ],
   "source": [
    "actual_multiplier = random.uniform(10,100)\n",
    "print(actual_multiplier)"
   ]
  },
  {
   "cell_type": "code",
   "execution_count": 6,
   "id": "98cb9a0b-cbb6-4d9a-b90d-dabe96c41e43",
   "metadata": {},
   "outputs": [
    {
     "name": "stdout",
     "output_type": "stream",
     "text": [
      "15\n"
     ]
    }
   ],
   "source": [
    "integer = random.randint(10, 23)\n",
    "print(integer)"
   ]
  },
  {
   "cell_type": "markdown",
   "id": "f27dd8bf-eaa5-4006-9ab8-d6905ddc249e",
   "metadata": {},
   "source": [
    "### Collect some apple seeds\n",
    "Collect some samples of apple seeds, and measure the associated fruits\n",
    "* To start we'll use 10 samples with different numbers of seeds in each sample. Here we'll use numbers 1, 2, ..., 9, 10\n",
    "    * Make a numpy array named seed_count_array with these values\n",
    "* For obvious reasons, we will not be measuring any apples right now. We're going to cheat a bit and say that the height of the associated apples were the number of seeds times our multiplier value plus noise\n",
    "    * Make a numpy array called apple_height_array that is length 10, and equal to the seed_count_array times the actual_multiplier\n",
    "    * Use the np.random.random method to create an array of length 10, and name it noise_array\n",
    "    * Add the values from the elements of the noise array to the elements of apple_height_array\n",
    "* Print out the actual_multiplier, seed_count_array, and apple_height_array"
   ]
  },
  {
   "cell_type": "code",
   "execution_count": 15,
   "id": "f3b5b472-30b9-49e1-bbe0-d5fa502896f2",
   "metadata": {},
   "outputs": [
    {
     "name": "stdout",
     "output_type": "stream",
     "text": [
      "[0.46431848 0.25541911 0.91898963 0.96126207 0.82442038 0.58395851\n",
      " 0.26041283 0.49795163 0.74718232 0.31998368]\n",
      "49.58840092704109 [ 1  2  3  4  5  6  7  8  9 10] [ 50.0527194   99.43222096 149.68419241 199.31486578 248.76642501\n",
      " 298.11436408 347.37921932 397.20515904 447.04279066 496.20399295]\n"
     ]
    }
   ],
   "source": [
    "seed_count_array = np.arange(1,11)\n",
    "apple_height_array = np.array(seed_count_array*actual_multiplier)\n",
    "noise_array = np.random.random(10)\n",
    "apple_height_array=apple_height_array+noise_array\n",
    "print(noise_array)\n",
    "print(actual_multiplier, seed_count_array, apple_height_array)"
   ]
  },
  {
   "cell_type": "markdown",
   "id": "34c2c05d-d52f-4a38-be42-fc71c4e47f53",
   "metadata": {},
   "source": [
    "### Sidenote - How contrived is this exercise?\n",
    "\n",
    "This is toy problem where we know the answer before we start. The point of this example is understand overall process of iterative improvement. Relationships typically being modelled with ML are more complicated than a simple multiplier, but suprisingly little changes for more complex problems. Here we're modelling a single parameter, but many models used in biology have 10s of millions, but are built out of many simple calculations like our exercise. The math is more advanced (but maybe not as much as you might think) and beyond our scope, but wouldn't serve much practical use anyway since these calculations are never ever done by hand, and a comprehensive understanding of them is not strictly necessary unless researching novel algorithm designs."
   ]
  },
  {
   "cell_type": "markdown",
   "id": "7671afc0-8e38-41f7-aeba-5308772b45eb",
   "metadata": {},
   "source": [
    "## Part 2 - Build out a training loop"
   ]
  },
  {
   "cell_type": "markdown",
   "id": "47364488-5e4e-4123-88dc-17465b0ce6ae",
   "metadata": {},
   "source": [
    "### Steps (Add steps from slides here)\n",
    "1. write nested for-loops to 1) make a random prediction for each sample and 2) go through 10 epochs \n",
    "    - write a prediction function (named predict_multiplier) for this that guesses a value from -100 to 100\n",
    "2. write a function (named calculate_loss) that substracts prediction from true value\n",
    "    - multiplier is the parameter we're trying to guess, the prediction is the multiplier times the number of seeds\n",
    "    - at each step print the loss, predicted multiplier, actual mulitplier, predicted target, actual target, and number       of seeds\n",
    "3. Create a variable that keeps track of the best (lowest) loss value - call it best_loss.\n",
    "    - make a list called best_param_list that appends another list of the loss, predicted_multiplier,         actual_multiplier, predicted target, actual target, and number of seeds(making a list of lists)whenever a new best loss is found\n",
    "    - try increasing the number of epochs (make sure to comment out the print statements!)\n",
    "4. Update the predict function to take in the previous step's prediction and loss to make the output more accurate\n",
    "    - add a step before your loop to initialise these values\n",
    "    - loss = true_value-prediction | prediction = guess*seeds --> loss=true_value-(guess*seeds) --> true_value - loss = guess/seeds --> guess = (true_value-loss)/seeds\n",
    "5. "
   ]
  },
  {
   "cell_type": "code",
   "execution_count": 129,
   "id": "f7b0d68a-944b-47a8-b7f3-54670497b45a",
   "metadata": {},
   "outputs": [],
   "source": [
    "#1 prediction function\n",
    "def predict_multiplier (old_guess, loss):\n",
    "        return old_guess+(loss*0.001)"
   ]
  },
  {
   "cell_type": "code",
   "execution_count": 130,
   "id": "079e272d-0360-4fdf-85dc-a51470259107",
   "metadata": {},
   "outputs": [],
   "source": [
    "#2 function that substracts prediction from true value\n",
    "def calculate_loss(true_value, prediction):\n",
    "    return true_value-prediction"
   ]
  },
  {
   "cell_type": "code",
   "execution_count": 133,
   "id": "ce33a654-6bac-427c-aa30-3e4b6e06b65f",
   "metadata": {},
   "outputs": [],
   "source": [
    "#1 nested for loops to make random prediction\n",
    "epoch_count = 1000\n",
    "best_loss = 100\n",
    "best_param_list = []\n",
    "\n",
    "guess = random.uniform(-100,100)\n",
    "loss = calculate_loss(apple_height_array[0], random.uniform(-100,100)*seed_count_array[0])\n",
    "\n",
    "\n",
    "for epoch in range (epoch_count):\n",
    "    for sample in range(len(seed_count_array)):\n",
    "        guess=predict_multiplier(guess, loss)\n",
    "        prediction=guess*seed_count_array[sample]\n",
    "        loss=calculate_loss(apple_height_array[sample], prediction)\n",
    "        param_list=[loss, guess, actual_multiplier, prediction, apple_height_array[sample], seed_count_array[sample]]\n",
    "    \n",
    "        if abs(loss) < abs(best_loss):\n",
    "            best_loss = loss\n",
    "            best_param_list.append(param_list)\n",
    "        #print(epoch,sample, loss, prediction, apple_height_array[sample], guess, actual_multiplier, seed_count_array[sample])\n",
    "    #print()"
   ]
  },
  {
   "cell_type": "code",
   "execution_count": 134,
   "id": "5bb929ae-7fbb-4adc-8c26-bc161b056f2a",
   "metadata": {},
   "outputs": [
    {
     "name": "stdout",
     "output_type": "stream",
     "text": [
      "0.0006289737333844414\n",
      "[-6.158278834242672, 56.210998237452166, 49.58840092704109, 56.210998237452166, 50.052719403209494, 1]\n",
      "[-5.808292577883648, 55.86101198109314, 49.58840092704109, 55.86101198109314, 50.052719403209494, 1]\n",
      "[-5.4770998811126645, 55.52981928432216, 49.58840092704109, 55.52981928432216, 50.052719403209494, 1]\n",
      "[-5.163691567496151, 55.216410970705645, 49.58840092704109, 55.216410970705645, 50.052719403209494, 1]\n",
      "[-4.867112651349736, 54.91983205455923, 49.58840092704109, 54.91983205455923, 50.052719403209494, 1]\n",
      "[-4.586459427803774, 54.63917883101327, 49.58840092704109, 54.63917883101327, 50.052719403209494, 1]\n",
      "[-4.320876719126446, 54.37359612233594, 49.58840092704109, 54.37359612233594, 50.052719403209494, 1]\n",
      "[-4.06955526891398, 54.122274672123474, 49.58840092704109, 54.122274672123474, 50.052719403209494, 1]\n",
      "[-3.831729276207348, 53.88444867941684, 49.58840092704109, 53.88444867941684, 50.052719403209494, 1]\n",
      "[-3.6066740620221793, 53.65939346523167, 49.58840092704109, 53.65939346523167, 50.052719403209494, 1]\n",
      "[-3.3937038611812227, 53.44642326439072, 49.58840092704109, 53.44642326439072, 50.052719403209494, 1]\n",
      "[-3.1921697327209912, 53.244889135930485, 49.58840092704109, 53.244889135930485, 50.052719403209494, 1]\n",
      "[-3.0014575825053953, 53.05417698571489, 49.58840092704109, 53.05417698571489, 50.052719403209494, 1]\n",
      "[-2.820986292021047, 52.87370569523054, 49.58840092704109, 52.87370569523054, 50.052719403209494, 1]\n",
      "[-2.650205947652502, 52.702925350861996, 49.58840092704109, 52.702925350861996, 50.052719403209494, 1]\n",
      "[-2.488596165041862, 52.541315568251356, 49.58840092704109, 52.541315568251356, 50.052719403209494, 1]\n",
      "[-2.335664503426891, 52.388383906636385, 49.58840092704109, 52.388383906636385, 50.052719403209494, 1]\n",
      "[-2.1909449651260147, 52.24366436833551, 49.58840092704109, 52.24366436833551, 50.052719403209494, 1]\n",
      "[-2.0539965755979637, 52.10671597880746, 49.58840092704109, 52.10671597880746, 50.052719403209494, 1]\n",
      "[-1.9244020397493458, 51.97712144295884, 49.58840092704109, 51.97712144295884, 50.052719403209494, 1]\n",
      "[-1.8017664703958616, 51.854485873605356, 49.58840092704109, 51.854485873605356, 50.052719403209494, 1]\n",
      "[-1.6857161850024838, 51.73843558821198, 49.58840092704109, 51.73843558821198, 50.052719403209494, 1]\n",
      "[-1.5758975670363782, 51.62861697024587, 49.58840092704109, 51.62861697024587, 50.052719403209494, 1]\n",
      "[-1.4719759884628942, 51.52469539167239, 49.58840092704109, 51.52469539167239, 50.052719403209494, 1]\n",
      "[-1.3736347901012422, 51.426354193310736, 49.58840092704109, 51.426354193310736, 50.052719403209494, 1]\n",
      "[-1.2805743167331798, 51.333293719942674, 49.58840092704109, 51.333293719942674, 50.052719403209494, 1]\n",
      "[-1.1925110040243183, 51.24523040723381, 49.58840092704109, 51.24523040723381, 50.052719403209494, 1]\n",
      "[-1.1091765144759194, 51.16189591768541, 49.58840092704109, 51.16189591768541, 50.052719403209494, 1]\n",
      "[-1.030316919774414, 51.08303632298391, 49.58840092704109, 51.08303632298391, 50.052719403209494, 1]\n",
      "[-0.9556919270470843, 51.00841133025658, 49.58840092704109, 51.00841133025658, 50.052719403209494, 1]\n",
      "[-0.8850741466662271, 50.93779354987572, 49.58840092704109, 50.93779354987572, 50.052719403209494, 1]\n",
      "[-0.818248399370809, 50.8709678025803, 49.58840092704109, 50.8709678025803, 50.052719403209494, 1]\n",
      "[-0.7550110605942706, 50.807730463803765, 49.58840092704109, 50.807730463803765, 50.052719403209494, 1]\n",
      "[-0.6951694400006474, 50.74788884321014, 49.58840092704109, 50.74788884321014, 50.052719403209494, 1]\n",
      "[-0.6385411943382806, 50.691260597547775, 49.58840092704109, 50.691260597547775, 50.052719403209494, 1]\n",
      "[-0.5849537718222138, 50.63767317503171, 49.58840092704109, 50.63767317503171, 50.052719403209494, 1]\n",
      "[-0.5342438863520371, 50.58696328956153, 49.58840092704109, 50.58696328956153, 50.052719403209494, 1]\n",
      "[-0.486257019963233, 50.53897642317273, 49.58840092704109, 50.53897642317273, 50.052719403209494, 1]\n",
      "[-0.4408469519959013, 50.493566355205395, 49.58840092704109, 50.493566355205395, 50.052719403209494, 1]\n",
      "[-0.39787531354610906, 50.4505947167556, 49.58840092704109, 50.4505947167556, 50.052719403209494, 1]\n",
      "[-0.35721116584240775, 50.4099305690519, 49.58840092704109, 50.4099305690519, 50.052719403209494, 1]\n",
      "[-0.31873060126255126, 50.371450004472045, 49.58840092704109, 50.371450004472045, 50.052719403209494, 1]\n",
      "[-0.28231636577497454, 50.33503576898447, 49.58840092704109, 50.33503576898447, 50.052719403209494, 1]\n",
      "[-0.24785750165428055, 50.300576904863775, 49.58840092704109, 50.300576904863775, 50.052719403209494, 1]\n",
      "[-0.2152490093822479, 50.26796841259174, 49.58840092704109, 50.26796841259174, 50.052719403209494, 1]\n",
      "[-0.1843915277041006, 50.237110930913595, 49.58840092704109, 50.237110930913595, 50.052719403209494, 1]\n",
      "[-0.15519103086496955, 50.20791043407446, 49.58840092704109, 50.20791043407446, 50.052719403209494, 1]\n",
      "[-0.12755854210436723, 50.18027794531386, 49.58840092704109, 50.18027794531386, 50.052719403209494, 1]\n",
      "[-0.10140986253527728, 50.15412926574477, 49.58840092704109, 50.15412926574477, 50.052719403209494, 1]\n",
      "[-0.07666531458193049, 50.129384717791424, 49.58840092704109, 50.129384717791424, 50.052719403209494, 1]\n",
      "[-0.05324949919450006, 50.105968902403994, 49.58840092704109, 50.105968902403994, 50.052719403209494, 1]\n",
      "[-0.031091066100763953, 50.08381046931026, 49.58840092704109, 50.08381046931026, 50.052719403209494, 1]\n",
      "[-0.010122496394970426, 50.062841899604464, 49.58840092704109, 50.062841899604464, 50.052719403209494, 1]\n",
      "[0.009720103198915808, 50.04299930001058, 49.58840092704109, 50.04299930001058, 50.052719403209494, 1]\n",
      "[0.0007588730760801354, 49.89447784513568, 49.58840092704109, 149.68343353540706, 149.68419240848314, 3]\n",
      "[0.0006289737333844414, 49.71579599504683, 49.58840092704109, 99.43159199009366, 99.43222096382705, 2]\n"
     ]
    }
   ],
   "source": [
    "print(best_loss)\n",
    "for row in best_param_list:\n",
    "    print(row)"
   ]
  },
  {
   "cell_type": "code",
   "execution_count": null,
   "id": "f611ffcf-086e-4bdf-a8a7-e44cecc344a8",
   "metadata": {},
   "outputs": [],
   "source": []
  }
 ],
 "metadata": {
  "kernelspec": {
   "display_name": "Python 3 (ipykernel)",
   "language": "python",
   "name": "python3"
  },
  "language_info": {
   "codemirror_mode": {
    "name": "ipython",
    "version": 3
   },
   "file_extension": ".py",
   "mimetype": "text/x-python",
   "name": "python",
   "nbconvert_exporter": "python",
   "pygments_lexer": "ipython3",
   "version": "3.9.12"
  }
 },
 "nbformat": 4,
 "nbformat_minor": 5
}
